{
 "cells": [
  {
   "cell_type": "code",
   "execution_count": 10,
   "metadata": {},
   "outputs": [],
   "source": [
    "# detect the operating system and gather extensive information about hardware using the sys module \n",
    "# in combination with other libraries such as platform and os.\n",
    "\n",
    "import sys\n",
    "import platform\n",
    "import os\n",
    "import psutil"
   ]
  },
  {
   "cell_type": "code",
   "execution_count": 8,
   "metadata": {},
   "outputs": [
    {
     "name": "stdout",
     "output_type": "stream",
     "text": [
      "You are running Linux.\n",
      "OS Name: Linux\n",
      "OS Information: Linux-5.10.0-25-amd64-x86_64-with-glibc2.31\n"
     ]
    }
   ],
   "source": [
    "def detect_os():\n",
    "    if sys.platform == \"win32\":\n",
    "        return \"Windows\"\n",
    "    elif sys.platform == \"darwin\":\n",
    "        return \"macOS\"\n",
    "    elif sys.platform == \"linux\" or sys.platform == \"linux2\":\n",
    "        return \"Linux\"\n",
    "    else:\n",
    "        return \"Unknown\"\n",
    "\n",
    "# Example of how to use the function\n",
    "os_name = detect_os()\n",
    "print(f\"You are running {os_name}.\")\n",
    "\n",
    "\n",
    "# Detect the operating system\n",
    "os_name = platform.system()\n",
    "print(f\"OS Name: {os_name}\")\n",
    "\n",
    "# Get the detailed OS information\n",
    "os_info = platform.platform()\n",
    "print(f\"OS Information: {os_info}\")"
   ]
  },
  {
   "cell_type": "code",
   "execution_count": null,
   "metadata": {},
   "outputs": [],
   "source": [
    "\n",
    "\n",
    "\n"
   ]
  },
  {
   "cell_type": "code",
   "execution_count": 4,
   "metadata": {},
   "outputs": [
    {
     "name": "stdout",
     "output_type": "stream",
     "text": [
      "Hostname: gs\n",
      "Architecture: ('64bit', 'ELF')\n",
      "Processor: \n",
      "Machine: x86_64\n",
      "Python Version: 3.9.2, Python Build: ('default', 'Feb 28 2021 17:03:44')\n"
     ]
    }
   ],
   "source": [
    "# Get the computer's hostname\n",
    "hostname = platform.node()\n",
    "print(f\"Hostname: {hostname}\")\n",
    "\n",
    "# Get the CPU information\n",
    "processor = platform.processor()\n",
    "print(f\"Processor: {processor}\")\n",
    "\n",
    "# Get the system's architecture\n",
    "architecture = platform.architecture()\n",
    "print(f\"Architecture: {architecture}\")\n",
    "print(f\"Architecture: {architecture[0]} {architecture[1]}\")\n",
    "\n",
    "# Get the machine's hardware platform\n",
    "machine = platform.machine()\n",
    "print(f\"Machine: {machine}\")\n",
    "\n",
    "# Get the Python version and build information\n",
    "python_version = platform.python_version()\n",
    "python_build = platform.python_build()\n",
    "print(f\"Python Version: {python_version}, Python Build: {python_build}\")"
   ]
  },
  {
   "cell_type": "code",
   "execution_count": 11,
   "metadata": {},
   "outputs": [
    {
     "name": "stdout",
     "output_type": "stream",
     "text": [
      "CPU Information:\n",
      "CPU Cores: 4\n",
      "CPU Threads: 8\n",
      "CPU Frequency: [scpufreq(current=898.007, min=800.0, max=3400.0), scpufreq(current=980.614, min=800.0, max=3400.0), scpufreq(current=1517.418, min=800.0, max=3400.0), scpufreq(current=2085.565, min=800.0, max=3400.0), scpufreq(current=2683.735, min=800.0, max=3400.0), scpufreq(current=2313.409, min=800.0, max=3400.0), scpufreq(current=2556.904, min=800.0, max=3400.0), scpufreq(current=2276.0, min=800.0, max=3400.0)]\n"
     ]
    }
   ],
   "source": [
    "# Get CPU information\n",
    "cpu_info = {\n",
    "    'CPU Cores': psutil.cpu_count(logical=False),\n",
    "    'CPU Threads': psutil.cpu_count(logical=True),\n",
    "    'CPU Frequency': psutil.cpu_freq(percpu=True),\n",
    "}\n",
    "\n",
    "print(\"CPU Information:\")\n",
    "for key, value in cpu_info.items():\n",
    "    print(f\"{key}: {value}\")"
   ]
  },
  {
   "cell_type": "code",
   "execution_count": 14,
   "metadata": {},
   "outputs": [
    {
     "name": "stdout",
     "output_type": "stream",
     "text": [
      "RAM Information:\n",
      "Total RAM Memory: 16677302272 bytes\n",
      "Available Virtual Memory: 3287072768 bytes\n",
      "Used Virtual Memory: 10701504512 bytes\n",
      "Free Virtual Memory: 893558784 bytes\n",
      "Swap Memory: sswap(total=999288832, used=998793216, free=495616, percent=100.0, sin=777252864, sout=4271267840)\n"
     ]
    }
   ],
   "source": [
    "# Get RAM/virtual memory information\n",
    "virtual_memory = psutil.virtual_memory()\n",
    "\n",
    "print(\"RAM Information:\")\n",
    "print(f\"Total RAM Memory: {virtual_memory.total} bytes\")\n",
    "print(f\"Available Virtual Memory: {virtual_memory.available} bytes\")\n",
    "print(f\"Used Virtual Memory: {virtual_memory.used} bytes\")\n",
    "print(f\"Free Virtual Memory: {virtual_memory.free} bytes\")\n",
    "print(f\"Swap Memory: {psutil.swap_memory()}\")"
   ]
  },
  {
   "cell_type": "code",
   "execution_count": null,
   "metadata": {},
   "outputs": [],
   "source": [
    "# Get hard drive information\n",
    "# Get disk usage for specific partitions\n",
    "partitions = psutil.disk_partitions(all=False)\n",
    "\n",
    "print(\"Hard Drive Information:\")\n",
    "for partition in partitions:\n",
    "    usage = psutil.disk_usage(partition.mountpoint)\n",
    "    print(f\"Device: {partition.device}\")\n",
    "    print(f\"Mountpoint: {partition.mountpoint}\")\n",
    "    print(f\"File System Type: {partition.fstype}\")\n",
    "    print(f\"Total Disk Space: {usage.total} bytes\")\n",
    "    print(f\"Used Disk Space: {usage.used} bytes\")\n",
    "    print(f\"Free Disk Space: {usage.free} bytes\")"
   ]
  },
  {
   "cell_type": "code",
   "execution_count": 6,
   "metadata": {},
   "outputs": [
    {
     "name": "stdout",
     "output_type": "stream",
     "text": [
      "Current Directory: /home/greg/IT_ALL/Python/Snipets\n",
      "Contents of the Current Directory:\n",
      "Fibonacci.ipynb\n",
      "find_max_min.ipynb\n",
      "dice_rolling_game.ipynb\n",
      " Operating_System.ipynb\n",
      "Caesar_Cipher.ipynb\n"
     ]
    }
   ],
   "source": [
    "# Get the current working directory\n",
    "current_directory = os.getcwd()\n",
    "print(f\"Current Directory: {current_directory}\")\n",
    "\n",
    "# List files and directories in the current directory\n",
    "contents = os.listdir(current_directory)\n",
    "print(\"Contents of the Current Directory:\")\n",
    "for item in contents:\n",
    "    print(item)"
   ]
  }
 ],
 "metadata": {
  "kernelspec": {
   "display_name": "Python 3",
   "language": "python",
   "name": "python3"
  },
  "language_info": {
   "codemirror_mode": {
    "name": "ipython",
    "version": 3
   },
   "file_extension": ".py",
   "mimetype": "text/x-python",
   "name": "python",
   "nbconvert_exporter": "python",
   "pygments_lexer": "ipython3",
   "version": "3.9.2"
  },
  "orig_nbformat": 4
 },
 "nbformat": 4,
 "nbformat_minor": 2
}
