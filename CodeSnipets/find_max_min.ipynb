{
 "cells": [
  {
   "cell_type": "code",
   "execution_count": 3,
   "metadata": {},
   "outputs": [],
   "source": [
    "# find max and min values of the array\n",
    "def max_min(data):\n",
    "  l = data[0]\n",
    "  s = data[0]\n",
    "  for num in data:\n",
    "    if num> l:\n",
    "      l = num\n",
    "    elif num< s:\n",
    "        s = num\n",
    "  return l, s"
   ]
  },
  {
   "cell_type": "code",
   "execution_count": 7,
   "metadata": {},
   "outputs": [
    {
     "name": "stdout",
     "output_type": "stream",
     "text": [
      "Original Random Integers: [-42, -33, -32, -29, -3, 3, 24, 26, 32, 42]\n",
      "Unique  Random Numbers (Ascending): [-32, 32, -29, 3, 42, -42, 24, 26, -3, -33]\n",
      "Positive Random Integers: [42, 42, 33, 32, 32, 29, 26, 24, 3, 3]\n",
      "Unique Positive Integers (Descending): [32, 33, 3, 42, 24, 26, 29]\n",
      "(42, -42)\n",
      "(42, 3)\n"
     ]
    }
   ],
   "source": [
    "import math\n",
    "import random\n",
    "\n",
    "num_integers = random.randint(8,12)\n",
    "\n",
    "# Minimum and maximum values for the random range\n",
    "min_value = -50\n",
    "max_value = abs(min_value)\n",
    "\n",
    "# Generate a list of random integers in a random range, including negative numbers\n",
    "random_integers = [random.randint(min_value, max_value) for _ in range(num_integers)]\n",
    "\n",
    "# Sort random numbers in ascending order\n",
    "random_integers.sort()\n",
    "\n",
    "# Get the absolute values of the random integers to ensure they are all positive\n",
    "positive_integers = [abs(integer) for integer in random_integers]\n",
    "\n",
    "# Sort positive_integers in descending order\n",
    "positive_integers.sort(reverse=True)\n",
    "\n",
    "# Remove duplicates from the sorted lists\n",
    "unique_random_numbers = list(set(random_integers))\n",
    "unique_positive_integers = list(set(positive_integers))\n",
    "\n",
    "# Print the original and absolute value lists\n",
    "print(\"Original Random Integers:\", random_integers)\n",
    "print(\"Unique  Random Numbers (Ascending):\", unique_random_numbers)\n",
    "print(\"Positive Random Integers:\", positive_integers)\n",
    "print(\"Unique Positive Integers (Descending):\", unique_positive_integers)\n",
    "\n",
    "print(max_min(unique_random_numbers))\n",
    "print(max_min(unique_positive_integers))\n",
    "\n"
   ]
  }
 ],
 "metadata": {
  "kernelspec": {
   "display_name": "Python 3",
   "language": "python",
   "name": "python3"
  },
  "language_info": {
   "codemirror_mode": {
    "name": "ipython",
    "version": 3
   },
   "file_extension": ".py",
   "mimetype": "text/x-python",
   "name": "python",
   "nbconvert_exporter": "python",
   "pygments_lexer": "ipython3",
   "version": "3.9.2"
  },
  "orig_nbformat": 4
 },
 "nbformat": 4,
 "nbformat_minor": 2
}
