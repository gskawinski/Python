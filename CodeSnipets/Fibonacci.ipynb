{
 "cells": [
  {
   "cell_type": "code",
   "execution_count": null,
   "metadata": {},
   "outputs": [],
   "source": [
    "# The Fibonacci sequence is a pretty famous sequence of integer numbers.\n",
    "# The Fibonacci sequence is a series of numbers in which each number is the sum of the two preceding ones, \n",
    "# usually starting with 0 and 1. "
   ]
  },
  {
   "cell_type": "code",
   "execution_count": 1,
   "metadata": {},
   "outputs": [],
   "source": [
    "# A recursive algorithm is a natural choice for generating the Fibonacci sequence \n",
    "# because it's defined in terms of previous numbers in the sequence. \n",
    "\n",
    "def fibonacci_recursive(n):\n",
    "    if n <= 0:\n",
    "        return 0\n",
    "    elif n == 1:\n",
    "        return 1\n",
    "    else:\n",
    "        return fibonacci_recursive(n - 1) + fibonacci_recursive(n - 2)"
   ]
  },
  {
   "cell_type": "code",
   "execution_count": null,
   "metadata": {},
   "outputs": [],
   "source": [
    "# Number of terms in the Fibonacci sequence to generate\n",
    "num_terms = 10\n",
    "\n",
    "# Generate and print the first 'num_terms' terms of the Fibonacci sequence\n",
    "for i in range(num_terms):\n",
    "    fib_term = fibonacci_recursive(i)\n",
    "    print(f\"Fib({i}) = {fib_term}\")"
   ]
  },
  {
   "cell_type": "code",
   "execution_count": 3,
   "metadata": {},
   "outputs": [],
   "source": [
    "# An iterative algorithm is often more efficient for generating the Fibonacci sequence compared to a recursive algorithm, \n",
    "# especially for large values of 'n'. \n",
    "\n",
    "def fibonacci_iterative(n):\n",
    "    fib_sequence = [0, 1]\n",
    "\n",
    "    if n <= 1:\n",
    "        return fib_sequence[:n + 1]\n",
    "\n",
    "    for i in range(2, n + 1):\n",
    "        next_fib = fib_sequence[i - 1] + fib_sequence[i - 2]\n",
    "        fib_sequence.append(next_fib)\n",
    "\n",
    "    return fib_sequence"
   ]
  },
  {
   "cell_type": "code",
   "execution_count": null,
   "metadata": {},
   "outputs": [],
   "source": [
    "# Number of terms in the Fibonacci sequence to generate\n",
    "num_terms = 10\n",
    "\n",
    "# Generate and print the first 'num_terms' terms of the Fibonacci sequence\n",
    "fibonacci_sequence = fibonacci_iterative(num_terms - 1)\n",
    "print(\"Fibonacci Sequence:\")\n",
    "for i, term in enumerate(fibonacci_sequence):\n",
    "    print(f\"Fib({i}) = {term}\")"
   ]
  }
 ],
 "metadata": {
  "kernelspec": {
   "display_name": "Python 3",
   "language": "python",
   "name": "python3"
  },
  "language_info": {
   "codemirror_mode": {
    "name": "ipython",
    "version": 3
   },
   "file_extension": ".py",
   "mimetype": "text/x-python",
   "name": "python",
   "nbconvert_exporter": "python",
   "pygments_lexer": "ipython3",
   "version": "3.9.2"
  },
  "orig_nbformat": 4
 },
 "nbformat": 4,
 "nbformat_minor": 2
}
