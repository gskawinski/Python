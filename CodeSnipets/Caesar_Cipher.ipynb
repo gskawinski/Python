{
 "cells": [
  {
   "cell_type": "code",
   "execution_count": null,
   "metadata": {},
   "outputs": [],
   "source": [
    "# The Caesar Cipher is a simple and widely known encryption technique \n",
    "# that operates by shifting the characters in a text by a fixed number of positions down or up the alphabet\n",
    "# Each text is replaced by the fixed number of position down or up with the alphabet.\n",
    "\n",
    "# this concept using modular arithmetic by first transmuting the letter into numbers, \n",
    "# according to the schema, A = 0, B = 1, C = 2, D = 3…….. Z = 25.\n",
    "\n",
    "# E (x) = (x + n) mod 26\n",
    " # Cipher(n) = De-cipher(26-n)\n",
    "\n",
    "# ord() => takes a single character (a string of length 1) as an argument and returns the ASCII value (integer)\n",
    "# chr() => takes an integer (an ASCII value) as an argument and returns the corresponding character."
   ]
  },
  {
   "cell_type": "code",
   "execution_count": 2,
   "metadata": {},
   "outputs": [],
   "source": [
    "from faker import Faker\n",
    "import random\n",
    "\n",
    "# Initialize the Faker instance\n",
    "fake = Faker()"
   ]
  },
  {
   "cell_type": "code",
   "execution_count": 7,
   "metadata": {},
   "outputs": [],
   "source": [
    "# Caesar Cipher Encryption Function\n",
    "def caesar_cipher_encrypt(text, shift):\n",
    "    encrypted_text = \"\"\n",
    "    for char in text:\n",
    "         # check whether all the characters in a given string are alphabetic characters (letters both uppercase and lowercase) but exclude digits, spaces, punctuation, or any other non-alphabetic characters.      \n",
    "        if char.isalpha():\n",
    "            # use mod 26 \n",
    "            shift_amount = shift % 26\n",
    "            if char.islower():\n",
    "                shifted_char = chr(((ord(char) - ord('a') + shift_amount) % 26) + ord('a'))\n",
    "            else:\n",
    "                shifted_char = chr(((ord(char) - ord('A') + shift_amount) % 26) + ord('A'))\n",
    "            encrypted_text += shifted_char\n",
    "        else:\n",
    "            encrypted_text += char\n",
    "    return encrypted_text\n",
    "\n",
    "# Caesar Cipher Decryption Function\n",
    "def caesar_cipher_decrypt(text, shift):\n",
    "    return caesar_cipher_encrypt(text, -shift)"
   ]
  },
  {
   "cell_type": "code",
   "execution_count": 13,
   "metadata": {},
   "outputs": [],
   "source": [
    "def caesar_cipher_brute_force(encrypted_text):\n",
    "    decrypted_texts = []\n",
    "\n",
    "    for shift in range(1, 27):\n",
    "        decrypted_text = \"\"\n",
    "        for char in encrypted_text:\n",
    "            if char.isalpha():\n",
    "                shift_amount = shift % 26\n",
    "                if char.islower():\n",
    "                    shifted_char = chr(((ord(char) - ord('a') - shift_amount) % 26) + ord('a'))\n",
    "                else:\n",
    "                    shifted_char = chr(((ord(char) - ord('A') - shift_amount) % 26) + ord('A'))\n",
    "                decrypted_text += shifted_char\n",
    "            else:\n",
    "                decrypted_text += char\n",
    "        decrypted_texts.append(decrypted_text)\n",
    "\n",
    "    return decrypted_texts"
   ]
  },
  {
   "cell_type": "code",
   "execution_count": 12,
   "metadata": {},
   "outputs": [
    {
     "name": "stdout",
     "output_type": "stream",
     "text": [
      "Original Text:       Model organization fall new standard.\n",
      "Encrypted Text:      Kmbcj mpeylgxyrgml dyjj lcu qrylbypb.\n",
      "Decrypted Text:      Model organization fall new standard.\n"
     ]
    }
   ],
   "source": [
    "# Generate a random shift number between 1 and 26\n",
    "random_shift = random.randint(1, 26)\n",
    "\n",
    "# Create a fake sentence using Faker\n",
    "fake_sentence = fake.sentence()\n",
    "\n",
    "# Encrypt the Example Text\n",
    "shift_value = random_shift\n",
    "encrypted_text = caesar_cipher_encrypt(fake_sentence, shift_value)\n",
    "\n",
    "# Decrypt the Encrypted Text\n",
    "decrypted_text = caesar_cipher_decrypt(encrypted_text, shift_value)\n",
    "\n",
    "# Output\n",
    "print(\"Original Text:      \", fake_sentence)\n",
    "print(\"Encrypted Text:     \", encrypted_text)\n",
    "print(\"Decrypted Text:     \", decrypted_text)"
   ]
  },
  {
   "cell_type": "code",
   "execution_count": 14,
   "metadata": {},
   "outputs": [
    {
     "name": "stdout",
     "output_type": "stream",
     "text": [
      "Shift 1: Jlabi lodxkfwxqflk cxii kbt pqxkaxoa.\n",
      "Shift 2: Ikzah kncwjevwpekj bwhh jas opwjzwnz.\n",
      "Shift 3: Hjyzg jmbviduvodji avgg izr noviyvmy.\n",
      "Shift 4: Gixyf ilauhctuncih zuff hyq mnuhxulx.\n",
      "Shift 5: Fhwxe hkztgbstmbhg ytee gxp lmtgwtkw.\n",
      "Shift 6: Egvwd gjysfarslagf xsdd fwo klsfvsjv.\n",
      "Shift 7: Dfuvc fixrezqrkzfe wrcc evn jkreuriu.\n",
      "Shift 8: Cetub ehwqdypqjyed vqbb dum ijqdtqht.\n",
      "Shift 9: Bdsta dgvpcxopixdc upaa ctl hipcspgs.\n",
      "Shift 10: Acrsz cfuobwnohwcb tozz bsk ghobrofr.\n",
      "Shift 11: Zbqry betnavmngvba snyy arj fgnaqneq.\n",
      "Shift 12: Yapqx adsmzulmfuaz rmxx zqi efmzpmdp.\n",
      "Shift 13: Xzopw zcrlytkletzy qlww yph delyolco.\n",
      "Shift 14: Wynov ybqkxsjkdsyx pkvv xog cdkxnkbn.\n",
      "Shift 15: Vxmnu xapjwrijcrxw ojuu wnf bcjwmjam.\n",
      "Shift 16: Uwlmt wzoivqhibqwv nitt vme abivlizl.\n",
      "Shift 17: Tvkls vynhupghapvu mhss uld zahukhyk.\n",
      "Shift 18: Sujkr uxmgtofgzout lgrr tkc yzgtjgxj.\n",
      "Shift 19: Rtijq twlfsnefynts kfqq sjb xyfsifwi.\n",
      "Shift 20: Qship svkermdexmsr jepp ria wxerhevh.\n",
      "Shift 21: Prgho rujdqlcdwlrq idoo qhz vwdqgdug.\n",
      "Shift 22: Oqfgn qticpkbcvkqp hcnn pgy uvcpfctf.\n",
      "Shift 23: Npefm pshbojabujpo gbmm ofx tuboebse.\n",
      "Shift 24: Model organization fall new standard.\n",
      "Shift 25: Lncdk nqfzmhyzshnm ezkk mdv rszmczqc.\n",
      "Shift 26: Kmbcj mpeylgxyrgml dyjj lcu qrylbypb.\n"
     ]
    }
   ],
   "source": [
    "# Example encrypted text\n",
    "encrypted_text = \"Kmbcj mpeylgxyrgml dyjj lcu qrylbypb.\"  # Model organization fall new standard\n",
    "\n",
    "# Attempt to decrypt the encrypted text using brute force\n",
    "decrypted_texts = caesar_cipher_brute_force(encrypted_text)\n",
    "\n",
    "# brute force method will generate 26 different possible decrypted texts, \n",
    "# and you need to manually inspect the output to determine which one makes sense in the context of your message.\n",
    "\n",
    "# Print all possible decryptions\n",
    "for i, decrypted_text in enumerate(decrypted_texts):\n",
    "    print(f\"Shift {i + 1}: {decrypted_text}\")"
   ]
  }
 ],
 "metadata": {
  "kernelspec": {
   "display_name": "Python 3",
   "language": "python",
   "name": "python3"
  },
  "language_info": {
   "codemirror_mode": {
    "name": "ipython",
    "version": 3
   },
   "file_extension": ".py",
   "mimetype": "text/x-python",
   "name": "python",
   "nbconvert_exporter": "python",
   "pygments_lexer": "ipython3",
   "version": "3.9.2"
  },
  "orig_nbformat": 4
 },
 "nbformat": 4,
 "nbformat_minor": 2
}
