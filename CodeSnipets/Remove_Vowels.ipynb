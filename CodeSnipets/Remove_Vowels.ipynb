{
 "cells": [
  {
   "cell_type": "code",
   "execution_count": null,
   "metadata": {},
   "outputs": [],
   "source": [
    "def remove_vowels(input_string):\n",
    "    vowels = \"AEIOUaeiou\"\n",
    "    # Use list comprehension to create a new string with vowels removed\n",
    "    result = ''.join([char for char in input_string if char not in vowels])\n",
    "    return result\n",
    "\n",
    "input_string = input(\"Enter a string: \")\n",
    "result = remove_vowels(input_string)\n",
    "print(f\"String with vowels removed: {result}\")"
   ]
  },
  {
   "cell_type": "code",
   "execution_count": 1,
   "metadata": {},
   "outputs": [
    {
     "name": "stdout",
     "output_type": "stream",
     "text": [
      "\n",
      "After removing Vowels:  Prpnst\n"
     ]
    }
   ],
   "source": [
    "# iteration on string using for loop\n",
    "string = \"PrepInsta\"\n",
    "\n",
    "vowels = ['a', 'e', 'i', 'o', 'u', 'A', 'E', 'I', 'O', 'U']\n",
    "result = \"\"\n",
    "\n",
    "for i in range(len(string)):\n",
    "    if string[i] not in vowels:\n",
    "        result = result + string[i]\n",
    "\n",
    "print(\"\\nAfter removing Vowels: \", result)"
   ]
  },
  {
   "cell_type": "code",
   "execution_count": null,
   "metadata": {},
   "outputs": [],
   "source": [
    "# Iterate on individual char of string\n",
    "\n",
    "string = \"PrepInsta\"\n",
    "\n",
    "vowels = ['a', 'e', 'i', 'o', 'u', 'A', 'E', 'I', 'O', 'U']\n",
    "result = \"\"\n",
    "\n",
    "for char in string:\n",
    "    if char not in vowels:\n",
    "        result = result + char\n",
    "\n",
    "print(\"\\nAfter removing Vowels: \", result)"
   ]
  },
  {
   "cell_type": "code",
   "execution_count": null,
   "metadata": {},
   "outputs": [],
   "source": [
    "# import the module for regular expression (re)\n",
    "import re\n",
    "def rem_vowel(string):\n",
    "    return (re.sub(\"[aeiouAEIOU]\",\"\",string))           \n",
    "\n",
    "# Driver program\n",
    "string = \"Prepinsta\"\n",
    "print(rem_vowel(string))"
   ]
  },
  {
   "cell_type": "code",
   "execution_count": 2,
   "metadata": {},
   "outputs": [
    {
     "name": "stdout",
     "output_type": "stream",
     "text": [
      "After removing Vowels :  Prpnst\n"
     ]
    }
   ],
   "source": [
    "#  method uses slicing. Advantage we can remove the vowels without needing another variable.\n",
    "str = \"PrepInsta\"\n",
    "\n",
    "vowels = ['a', 'e', 'i', 'o', 'u', 'A', 'E', 'I', 'O', 'U']\n",
    "i = 0\n",
    "for c in str:\n",
    "    if c in vowels:\n",
    "        str = str[:i] + str[i+1:]\n",
    "        i = i-1\n",
    "    i = i+1\n",
    "\n",
    "print(\"After removing Vowels : \", str)"
   ]
  }
 ],
 "metadata": {
  "kernelspec": {
   "display_name": "Python 3",
   "language": "python",
   "name": "python3"
  },
  "language_info": {
   "codemirror_mode": {
    "name": "ipython",
    "version": 3
   },
   "file_extension": ".py",
   "mimetype": "text/x-python",
   "name": "python",
   "nbconvert_exporter": "python",
   "pygments_lexer": "ipython3",
   "version": "3.9.2"
  },
  "orig_nbformat": 4
 },
 "nbformat": 4,
 "nbformat_minor": 2
}
