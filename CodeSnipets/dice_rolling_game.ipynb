{
 "cells": [
  {
   "cell_type": "code",
   "execution_count": 1,
   "metadata": {},
   "outputs": [],
   "source": [
    "import random"
   ]
  },
  {
   "cell_type": "code",
   "execution_count": 5,
   "metadata": {},
   "outputs": [],
   "source": [
    "# define functions for simple target\n",
    "\n",
    "def roll_die():\n",
    "    return random.randint(1, 6)\n",
    "\n",
    "def single_target():\n",
    "    target_number = 6  # desired target number\n",
    "    max_attempts = 3  # desired number of attempts\n",
    "\n",
    "    print(f\"Welcome to the Dice Rolling Game! Your goal is to roll a {target_number}.\")\n",
    "\n",
    "    for attempt in range(1, max_attempts + 1):\n",
    "        input(\"Press ENTER to roll the die...\")\n",
    "        roll = roll_die()\n",
    "        print(f\"Attempt {attempt}: You rolled a {roll}.\")\n",
    "\n",
    "        if roll == target_number:\n",
    "            print(f\"Congratulations! You rolled a {target_number} on attempt {attempt}. You win!\")\n",
    "            break\n",
    "        else:\n",
    "            if attempt < max_attempts:\n",
    "                print(\"Try again.\")\n",
    "            else:\n",
    "                print(f\"Sorry, you couldn't roll a {target_number} in {max_attempts} attempts. You lose.\")"
   ]
  },
  {
   "cell_type": "code",
   "execution_count": 10,
   "metadata": {},
   "outputs": [],
   "source": [
    "# define functions for max sum game\n",
    "\n",
    "def roll_dice():\n",
    "    \"\"\"Simulate rolling two dice.\"\"\"\n",
    "    die1 = random.randint(1, 6)\n",
    "    die2 = random.randint(1, 6)\n",
    "    return die1, die2\n",
    "\n",
    "\n",
    "def max_sum():\n",
    "    total_score = 0\n",
    "\n",
    "    print(\"Welcome to the Dice Rolling Game!\")\n",
    "    print(\"Roll the dice and try to accumulate as many points as possible without rolling a 7.\")\n",
    "    print(\"If you roll a 7, your score will be reset to zero.\")\n",
    "\n",
    "    while True:\n",
    "        input(\"Press ENTER to roll the dice...\")\n",
    "\n",
    "        die1, die2 = roll_dice()\n",
    "        roll_sum = die1 + die2\n",
    "\n",
    "        print(f\"You rolled {die1} and {die2}, sum is {roll_sum}\")\n",
    "\n",
    "        if roll_sum == 7:\n",
    "            print(\"Oh no, you rolled a 7! Your score is reset to zero.\")\n",
    "            total_score = 0\n",
    "        else:\n",
    "            total_score += roll_sum\n",
    "            print(f\"Your current score is {total_score}\")\n",
    "\n",
    "        choice = input(\"Do you want to roll again? (yes/no): \").strip().lower()\n",
    "        if choice != 'yes':\n",
    "            break\n",
    "\n",
    "    print(f\"Game Over! Your final score is: {total_score}\")"
   ]
  },
  {
   "cell_type": "code",
   "execution_count": null,
   "metadata": {},
   "outputs": [],
   "source": [
    "if __name__ == \"__main__\":\n",
    "\n",
    "    print(\"Choose a game to play:\")\n",
    "    print(\"1. Dice Rolling Target\")\n",
    "    print(\"2. Dice Maximum Sum\")\n",
    "\n",
    "    choice = input(\"Enter the number of the game you want to play (1/2): \")\n",
    "\n",
    "    if choice == '1':\n",
    "        single_target()\n",
    "    elif choice == '2':\n",
    "        max_sum()\n",
    "    else:\n",
    "        print(\"Invalid choice. Please enter 1 or 2.\")\n",
    "\n",
    "        "
   ]
  }
 ],
 "metadata": {
  "kernelspec": {
   "display_name": "Python 3",
   "language": "python",
   "name": "python3"
  },
  "language_info": {
   "codemirror_mode": {
    "name": "ipython",
    "version": 3
   },
   "file_extension": ".py",
   "mimetype": "text/x-python",
   "name": "python",
   "nbconvert_exporter": "python",
   "pygments_lexer": "ipython3",
   "version": "3.9.2"
  },
  "orig_nbformat": 4
 },
 "nbformat": 4,
 "nbformat_minor": 2
}
